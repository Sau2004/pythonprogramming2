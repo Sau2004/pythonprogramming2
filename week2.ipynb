{
  "nbformat": 4,
  "nbformat_minor": 0,
  "metadata": {
    "colab": {
      "provenance": []
    },
    "kernelspec": {
      "name": "python3",
      "display_name": "Python 3"
    },
    "language_info": {
      "name": "python"
    }
  },
  "cells": [
    {
      "cell_type": "markdown",
      "source": [
        "**Section A **"
      ],
      "metadata": {
        "id": "_gKpHmd8TsJb"
      }
    },
    {
      "cell_type": "code",
      "execution_count": null,
      "metadata": {
        "colab": {
          "base_uri": "https://localhost:8080/"
        },
        "id": "ZEN0ni0LSmXz",
        "outputId": "ae7e9da6-d062-4973-ab28-0cb21a961c4e"
      },
      "outputs": [
        {
          "output_type": "stream",
          "name": "stdout",
          "text": [
            "There are total 2 same values\n"
          ]
        }
      ],
      "source": [
        "#1\n",
        "def num(a, b, c):\n",
        "  l=[]\n",
        "  if a==b==c:\n",
        "    l.append(a)\n",
        "    l.append(b)\n",
        "    l.append(c)\n",
        "  elif a==b:\n",
        "    l.append(a)\n",
        "    l.append(b)\n",
        "  elif b==c:\n",
        "    l.append(b)\n",
        "    l.append(c)\n",
        "  elif a==c:\n",
        "    l.append(a)\n",
        "    l.append(c)\n",
        "    \n",
        "  n = len(l)\n",
        "  print(\"There are total\",n,\"same values\")\n",
        "\n",
        "num(5, 0, 5)"
      ]
    },
    {
      "cell_type": "code",
      "source": [
        "#2\n",
        "def DtoLoT(dict):\n",
        "    dict = {'Swara':1, 'Aman':69, 'Cirayu':5, 'Vivek':4}\n",
        "    list = [(k, v) for k, v in dict.items()]\n",
        "\n",
        "    list.sort(key = lambda x: x[0])\n",
        "    return list\n",
        "\n",
        "print(DtoLoT(dict))"
      ],
      "metadata": {
        "colab": {
          "base_uri": "https://localhost:8080/"
        },
        "id": "MrwCKbUFVca-",
        "outputId": "9b529393-e4fb-4ab0-fcd0-90d74ee8a34a"
      },
      "execution_count": null,
      "outputs": [
        {
          "output_type": "stream",
          "name": "stdout",
          "text": [
            "[('Aman', 69), ('Cirayu', 5), ('Swara', 1), ('Vivek', 4)]\n"
          ]
        }
      ]
    },
    {
      "cell_type": "code",
      "source": [
        "#3\n",
        "l = ['a','b','c','d','e','f','g']\n",
        "dic = {}\n",
        "\n",
        "for i in l:\n",
        "  j = i.upper()\n",
        "  dic.update({i:j})\n",
        "print(dic)\n"
      ],
      "metadata": {
        "colab": {
          "base_uri": "https://localhost:8080/"
        },
        "id": "W39vWtG5Vyrr",
        "outputId": "ba79e3f0-1707-43d0-e19b-5def742fc753"
      },
      "execution_count": null,
      "outputs": [
        {
          "output_type": "stream",
          "name": "stdout",
          "text": [
            "{'a': 'A', 'b': 'B', 'c': 'C', 'd': 'D', 'e': 'E', 'f': 'F', 'g': 'G'}\n"
          ]
        }
      ]
    },
    {
      "cell_type": "code",
      "source": [
        "#4\n",
        "def ReplaceVowels(st1,v):\n",
        "  vowels = 'aeiou'\n",
        "  for i in vowels:\n",
        "    st1 = st1.replace(i,v)\n",
        "  return st1\n",
        "\n",
        "stri = 'i am learning most trending programming language python'\n",
        "v = 'e'\n",
        "\n",
        "\n",
        "print(\"After replacing vowels with the specified character:\",ReplaceVowels(stri,v))"
      ],
      "metadata": {
        "colab": {
          "base_uri": "https://localhost:8080/"
        },
        "id": "R_49cGI2WBaS",
        "outputId": "cf8f436b-c995-4cd9-9c53-f2ce76f7917a"
      },
      "execution_count": null,
      "outputs": [
        {
          "output_type": "stream",
          "name": "stdout",
          "text": [
            "After replacing vowels with the specified character: e em leerneng mest trendeng pregremmeng lengeege pythen\n"
          ]
        }
      ]
    },
    {
      "cell_type": "code",
      "source": [
        "#5\n",
        "def ascii(st):\n",
        "  res=[]\n",
        "  for index, c in enumerate(st):\n",
        "    if index%2==0:\n",
        "      res.append(c.upper())\n",
        "    else:\n",
        "      res.append(c.lower())\n",
        "  return''.join(res)\n",
        "print(ascii(\"Saurabh Munde\"))"
      ],
      "metadata": {
        "colab": {
          "base_uri": "https://localhost:8080/"
        },
        "id": "M8memHFrWU-C",
        "outputId": "88330318-5044-43c6-ad54-5fb449b38b5e"
      },
      "execution_count": null,
      "outputs": [
        {
          "output_type": "stream",
          "name": "stdout",
          "text": [
            "SaUrAbH MuNdE\n"
          ]
        }
      ]
    },
    {
      "cell_type": "markdown",
      "source": [
        "**Section B**"
      ],
      "metadata": {
        "id": "enibfRHkWq55"
      }
    },
    {
      "cell_type": "code",
      "source": [
        "#1\n",
        "def factorial(n):\n",
        "     \n",
        "    \n",
        "    return 1 if (n==1 or n==0) else n * factorial(n - 1);\n",
        " \n",
        "\n",
        "num = 3;\n",
        "print(\"Factorial of\",num,\"is\",\n",
        "factorial(num))"
      ],
      "metadata": {
        "colab": {
          "base_uri": "https://localhost:8080/"
        },
        "id": "cnhcgLfHW-yr",
        "outputId": "778f5180-36f4-411d-d48a-4a822f190a19"
      },
      "execution_count": null,
      "outputs": [
        {
          "output_type": "stream",
          "name": "stdout",
          "text": [
            "Factorial of 3 is 6\n"
          ]
        }
      ]
    },
    {
      "cell_type": "code",
      "source": [
        "#2\n",
        "def myfunction():\n",
        "    print(\"Saurabh\")\n",
        "myfunction()"
      ],
      "metadata": {
        "colab": {
          "base_uri": "https://localhost:8080/"
        },
        "id": "UUDGgbFLXf_g",
        "outputId": "7efef883-8356-4c09-c494-14054c41613e"
      },
      "execution_count": null,
      "outputs": [
        {
          "output_type": "stream",
          "name": "stdout",
          "text": [
            "Saurabh\n"
          ]
        }
      ]
    },
    {
      "cell_type": "code",
      "source": [
        "#3\n",
        "\n",
        "def largest_num_in_list( list ):\n",
        "    max = list[ 0 ]\n",
        "    for a in list:\n",
        "        if a > max:\n",
        "            max = a\n",
        "    return max\n",
        "print(largest_num_in_list([4, 1, 7, 1]))\n",
        "77"
      ],
      "metadata": {
        "colab": {
          "base_uri": "https://localhost:8080/"
        },
        "id": "prb3_aIkX3iJ",
        "outputId": "16f5cab6-503e-4dd0-c62d-a562267632d3"
      },
      "execution_count": null,
      "outputs": [
        {
          "output_type": "stream",
          "name": "stdout",
          "text": [
            "7\n"
          ]
        },
        {
          "output_type": "execute_result",
          "data": {
            "text/plain": [
              "77"
            ]
          },
          "metadata": {},
          "execution_count": 14
        }
      ]
    },
    {
      "cell_type": "code",
      "source": [
        "#4\n",
        "\n",
        "def test_prime(n):\n",
        "    if (n==1):\n",
        "        return False\n",
        "    elif (n==2):\n",
        "        return True;\n",
        "    else:\n",
        "        for x in range(2,n):\n",
        "            if(n % x==0):\n",
        "                return False\n",
        "        return True             \n",
        "print(test_prime(29))"
      ],
      "metadata": {
        "id": "Kzrd8ocAX4SV"
      },
      "execution_count": null,
      "outputs": []
    },
    {
      "cell_type": "code",
      "source": [
        "#5\n",
        "def is_even_num(l):\n",
        "    evennum = []\n",
        "    for n in l:\n",
        "        if n % 2 == 0:\n",
        "            evennum.append(n)\n",
        "    return evennum\n",
        "print(is_even_num([14, 2, 3, 45, 5, 68, 7, 8, 9]))\n",
        "[14, 68, 80]"
      ],
      "metadata": {
        "colab": {
          "base_uri": "https://localhost:8080/"
        },
        "id": "YCAxqP0VX61v",
        "outputId": "886a4996-0017-412b-d4ee-f016b2af744f"
      },
      "execution_count": null,
      "outputs": [
        {
          "output_type": "stream",
          "name": "stdout",
          "text": [
            "[14, 2, 68, 8]\n"
          ]
        },
        {
          "output_type": "execute_result",
          "data": {
            "text/plain": [
              "[14, 68, 80]"
            ]
          },
          "metadata": {},
          "execution_count": 13
        }
      ]
    }
  ]
}